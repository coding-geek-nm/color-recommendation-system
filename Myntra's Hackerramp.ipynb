{
 "cells": [
  {
   "cell_type": "code",
   "execution_count": 1,
   "metadata": {},
   "outputs": [
    {
     "name": "stdout",
     "output_type": "stream",
     "text": [
      "Requirement already satisfied: opencv-python-headless in c:\\programdata\\anaconda3\\lib\\site-packages (4.10.0.84)\n",
      "Requirement already satisfied: numpy in c:\\programdata\\anaconda3\\lib\\site-packages (1.18.1)\n",
      "Requirement already satisfied: scikit-learn in c:\\programdata\\anaconda3\\lib\\site-packages (0.22.1)\n",
      "Requirement already satisfied: scipy>=0.17.0 in c:\\programdata\\anaconda3\\lib\\site-packages (from scikit-learn) (1.4.1)\n",
      "Requirement already satisfied: joblib>=0.11 in c:\\programdata\\anaconda3\\lib\\site-packages (from scikit-learn) (0.14.1)\n"
     ]
    }
   ],
   "source": [
    "!pip install opencv-python-headless numpy scikit-learn"
   ]
  },
  {
   "cell_type": "code",
   "execution_count": 6,
   "metadata": {},
   "outputs": [],
   "source": [
    "import zipfile\n",
    "\n",
    "# Upload the zip file using Jupyter Notebook interface\n",
    "\n",
    "# Extract the zip file\n",
    "with zipfile.ZipFile('celeba.zip', 'r') as zip_ref:\n",
    "    zip_ref.extractall('./celeba')\n"
   ]
  },
  {
   "cell_type": "code",
   "execution_count": 8,
   "metadata": {},
   "outputs": [],
   "source": [
    "import cv2\n",
    "import numpy as np\n",
    "from sklearn.cluster import KMeans\n",
    "import os\n",
    "\n",
    "def extract_skin_tone(image_path, k=1):\n",
    "    image = cv2.imread(image_path)\n",
    "    image = cv2.cvtColor(image, cv2.COLOR_BGR2RGB)\n",
    "    pixels = image.reshape(-1, 3)\n",
    "    \n",
    "    kmeans = KMeans(n_clusters=k)\n",
    "    kmeans.fit(pixels)\n",
    "    \n",
    "    dominant_color = kmeans.cluster_centers_[0]\n",
    "    return dominant_color / 255.0\n",
    "\n",
    "celebA_path = './celeba'\n",
    "skin_tones = []\n",
    "\n",
    "for image_file in os.listdir(celebA_path):\n",
    "    image_path = os.path.join(celebA_path, image_file)\n",
    "    dominant_color = extract_skin_tone(image_path)\n",
    "    skin_tones.append(dominant_color)\n",
    "\n",
    "# Save skin tones to a CSV file or use directly in dataset\n",
    "import pandas as pd\n",
    "\n",
    "df = pd.DataFrame(skin_tones, columns=['R', 'G', 'B'])\n",
    "df.to_csv('skin_tones.csv', index=False)\n"
   ]
  },
  {
   "cell_type": "code",
   "execution_count": 4,
   "metadata": {},
   "outputs": [
    {
     "name": "stdout",
     "output_type": "stream",
     "text": [
      "Major Skin Tones (RGB):\n",
      "[[199 181 170]\n",
      " [ 93  70  57]\n",
      " [137 113 100]\n",
      " [ 66  51  43]\n",
      " [123 118 128]\n",
      " [153 135 123]\n",
      " [170 156 151]\n",
      " [105  90  82]\n",
      " [186 150 120]\n",
      " [130  86  65]]\n"
     ]
    },
    {
     "data": {
      "image/png": "[encoded data removed]",
      "text/plain": [
       "<Figure size 720x144 with 10 Axes>"
      ]
     },
     "metadata": {
      "needs_background": "light"
     },
     "output_type": "display_data"
    }
   ],
   "source": [
    "from sklearn.cluster import KMeans\n",
    "import numpy as np\n",
    "import matplotlib.pyplot as plt\n",
    "import pandas as pd \n",
    "\n",
    "skin_tones_df = pd.read_csv('./skin_tones.csv')  \n",
    "\n",
    "# Convert the skin tones to numpy array\n",
    "skin_tones_np = skin_tones_df[['R', 'G', 'B']].values\n",
    "\n",
    "# Normalize the skin tones\n",
    "normalized_skin_tones = skin_tones_np\n",
    "\n",
    "# Perform K-Means clustering to find major skin tone clusters\n",
    "kmeans = KMeans(n_clusters=10, random_state=42)  # Adjust the number of clusters as needed\n",
    "kmeans.fit(normalized_skin_tones)\n",
    "\n",
    "# Get the cluster centers (major skin tones)\n",
    "major_skin_tones = kmeans.cluster_centers_\n",
    "\n",
    "# Convert back to RGB scale\n",
    "major_skin_tones_rgb = (major_skin_tones * 255).astype(int)\n",
    "\n",
    "# Display the major skin tones\n",
    "print(\"Major Skin Tones (RGB):\")\n",
    "print(major_skin_tones_rgb)\n",
    "\n",
    "# Plot the major skin tones\n",
    "plt.figure(figsize=(10, 2))\n",
    "for i, color in enumerate(major_skin_tones_rgb):\n",
    "    plt.subplot(1, 10, i + 1)\n",
    "    plt.imshow([[color / 255.0]])\n",
    "    plt.axis('off')\n",
    "plt.show()\n"
   ]
  },
  {
   "cell_type": "code",
   "execution_count": 5,
   "metadata": {},
   "outputs": [],
   "source": [
    "def complementary_color(rgb_color):\n",
    "    return [255 - rgb_color[0], 255 - rgb_color[1], 255 - rgb_color[2]]\n",
    "\n",
    "def analogous_colors(rgb_color):\n",
    "    # Shift by +/-30 degrees in HSV space for simplicity\n",
    "    hsv = cv2.cvtColor(np.uint8([[rgb_color]]), cv2.COLOR_RGB2HSV)[0][0]\n",
    "    analogous1 = (hsv[0] + 30) % 180, hsv[1], hsv[2]\n",
    "    analogous2 = (hsv[0] - 30) % 180, hsv[1], hsv[2]\n",
    "    return [cv2.cvtColor(np.uint8([[analogous1]]), cv2.COLOR_HSV2RGB)[0][0],\n",
    "            cv2.cvtColor(np.uint8([[analogous2]]), cv2.COLOR_HSV2RGB)[0][0]]\n",
    "\n",
    "def triadic_colors(rgb_color):\n",
    "    # Shift by 120 degrees in HSV space\n",
    "    hsv = cv2.cvtColor(np.uint8([[rgb_color]]), cv2.COLOR_RGB2HSV)[0][0]\n",
    "    triadic1 = (hsv[0] + 60) % 180, hsv[1], hsv[2]\n",
    "    triadic2 = (hsv[0] + 120) % 180, hsv[1], hsv[2]\n",
    "    return [cv2.cvtColor(np.uint8([[triadic1]]), cv2.COLOR_HSV2RGB)[0][0],\n",
    "            cv2.cvtColor(np.uint8([[triadic2]]), cv2.COLOR_HSV2RGB)[0][0]]\n"
   ]
  },
  {
   "cell_type": "code",
   "execution_count": 7,
   "metadata": {},
   "outputs": [],
   "source": [
    "import cv2\n",
    "import numpy as np\n",
    "import pandas as pd\n",
    "\n",
    "# Load the colors dataset\n",
    "colors_df = pd.read_csv('./colors.csv')  # Replace with actual path\n",
    "skin_tones_df = pd.read_csv('./skin_tones.csv')  # Replace with actual path\n",
    "\n",
    "# Convert the skin tones to numpy array\n",
    "skin_tones_np = skin_tones_df[['R', 'G', 'B']].values\n",
    "\n",
    "# Normalize RGB values\n",
    "def normalize_rgb(r, g, b):\n",
    "    return r / 255.0, g / 255.0, b / 255.0\n",
    "\n",
    "data = []\n",
    "labels = []\n",
    "\n",
    "for skin_tone in skin_tones_np:\n",
    "    comp_color = complementary_color(skin_tone)\n",
    "    analogous_colors_list = analogous_colors(skin_tone)\n",
    "    triadic_colors_list = triadic_colors(skin_tone)\n",
    "    for _, row in colors_df.iterrows():\n",
    "        color_rgb = (row['R'], row['G'], row['B'])\n",
    "        normalized_color_rgb = normalize_rgb(*color_rgb)\n",
    "        # Convert to numpy arrays for comparison\n",
    "        color_rgb_np = np.array(color_rgb)\n",
    "        comp_color_np = np.array(comp_color)\n",
    "        analogous_colors_np = [np.array(color) for color in analogous_colors_list]\n",
    "        triadic_colors_np = [np.array(color) for color in triadic_colors_list]\n",
    "        \n",
    "        # Check if color_rgb_np matches any of the color harmony arrays\n",
    "        if (np.array_equal(color_rgb_np, comp_color_np) or\n",
    "            any(np.array_equal(color_rgb_np, color) for color in analogous_colors_np) or\n",
    "            any(np.array_equal(color_rgb_np, color) for color in triadic_colors_np)):\n",
    "            labels.append(1)\n",
    "        else:\n",
    "            labels.append(0)\n",
    "        data.append(list(skin_tone) + list(color_rgb))\n",
    "\n",
    "# Convert to DataFrame\n",
    "data_df = pd.DataFrame(data, columns=['Skin_R', 'Skin_G', 'Skin_B', 'Color_R', 'Color_G', 'Color_B'])\n",
    "labels_df = pd.DataFrame(labels, columns=['Label'])\n",
    "\n",
    "# Combine data and labels\n",
    "dataset = pd.concat([data_df, labels_df], axis=1)\n"
   ]
  },
  {
   "cell_type": "code",
   "execution_count": 9,
   "metadata": {},
   "outputs": [
    {
     "name": "stdout",
     "output_type": "stream",
     "text": [
      "          Skin_R    Skin_G    Skin_B  Color_R  Color_G  Color_B  Label\n",
      "53      0.709914  0.537462  0.430295        0        0        0      1\n",
      "918     0.516219  0.442556  0.421383        0        0        0      1\n",
      "1783    0.577920  0.527974  0.496466        0        0        0      1\n",
      "2648    0.351573  0.258238  0.196637        0        0        0      1\n",
      "3513    0.638500  0.627608  0.594858        0        0        0      1\n",
      "...          ...       ...       ...      ...      ...      ...    ...\n",
      "272528  0.463359  0.428748  0.443282        0        0        0      1\n",
      "273393  0.561008  0.448272  0.382845        0        0        0      1\n",
      "274258  0.416591  0.339121  0.301862        0        0        0      1\n",
      "275123  0.628723  0.530662  0.451749        0        0        0      1\n",
      "275988  0.441950  0.331115  0.238390        0        0        0      1\n",
      "\n",
      "[320 rows x 7 columns]\n"
     ]
    }
   ],
   "source": [
    "# Filter the rows where the label is 1\n",
    "suitable_colors_df = dataset[dataset['Label'] == 1]\n",
    "\n",
    "# Print the filtered rows\n",
    "print(suitable_colors_df)\n"
   ]
  },
  {
   "cell_type": "code",
   "execution_count": 12,
   "metadata": {},
   "outputs": [
    {
     "name": "stdout",
     "output_type": "stream",
     "text": [
      "Model Accuracy: 1.0\n"
     ]
    }
   ],
   "source": [
    "from sklearn.model_selection import train_test_split\n",
    "from sklearn.ensemble import RandomForestClassifier\n",
    "from sklearn.metrics import accuracy_score\n",
    "\n",
    "# Split into training and testing sets\n",
    "X_train, X_test, y_train, y_test = train_test_split(data_df, labels_df, test_size=0.2, random_state=42)\n",
    "\n",
    "# Train a Random Forest model\n",
    "model = RandomForestClassifier(n_estimators=100, random_state=42)\n",
    "model.fit(X_train, y_train.values.ravel())\n",
    "\n",
    "# Evaluate the model\n",
    "y_pred = model.predict(X_test)\n",
    "accuracy = accuracy_score(y_test, y_pred)\n",
    "print(f\"Model Accuracy: {accuracy}\")\n"
   ]
  },
  {
   "cell_type": "code",
   "execution_count": 18,
   "metadata": {},
   "outputs": [
    {
     "name": "stdout",
     "output_type": "stream",
     "text": [
      "545\n",
      "Recommended colors for skin tone (24, 172, 105): ['Air Force Blue (Raf)', 'Air Force Blue (Usaf)', 'Air Superiority Blue', 'Alabama Crimson', 'Alizarin Crimson', 'Alloy Orange', 'Amaranth', 'Amber (Sae/Ece)', 'American Rose', 'Amethyst', 'Antique Fuchsia', 'Antique Ruby', 'Ao (English)', 'Aqua', 'Aquamarine', 'Army Green', 'Arsenic', 'Auburn', 'Aurometalsaurus', 'Avocado', 'Azure', 'Ball Blue', 'Barn Red', 'Bazaar', 'Big Dip O’Ruby', 'Bistre', 'Bittersweet', 'Bittersweet Shimmer', 'Black', 'Black Bean', 'Black Leather Jacket', 'Black Olive', 'Blast-Off Bronze', 'Bleu De France', 'Blue', 'Blue (Crayola)', 'Blue Gray', 'Blue-Green', 'Blue (Munsell)', 'Blue (Ncs)', 'Blue (Pigment)', 'Blue (Ryb)', 'Blue Sapphire', 'Blue-Violet', 'Blush', 'Bole', 'Bondi Blue', 'Boston University Red', 'Bottle Green', 'Boysenberry', 'Brandeis Blue', 'Brick Red', 'Bright Cerulean', 'Bright Green', 'Bright Maroon', 'Bright Pink', 'Bright Turquoise', 'Brilliant Rose', 'Brink Pink', 'British Racing Green', 'Bronze', 'Brown (Traditional)', 'Brown (Web)', 'Bulgarian Rose', 'Burgundy', 'Burnt Orange', 'Burnt Sienna', 'Burnt Umber', 'Byzantine', 'Byzantium', 'Cadet', 'Cadet Blue', 'Cadmium Green', 'Cadmium Red', 'Café Au Lait', 'Café Noir', 'Cal Poly Green', 'Camouflage Green', 'Candy Apple Red', 'Candy Pink', 'Capri', 'Caput Mortuum', 'Cardinal', 'Caribbean Green', 'Carmine', 'Carmine (M&P)', 'Carmine Pink', 'Carmine Red', 'Carnelian', 'Catalina Blue', 'Celadon Blue', 'Celadon Green', 'Celestial Blue', 'Cerise', 'Cerise Pink', 'Cerulean', 'Cerulean Blue', 'Cerulean Frost', 'Cg Blue', 'Cg Red', 'Chamoisee', 'Charcoal', 'Chartreuse (Web)', 'Cherry', 'Chestnut', 'China Pink', 'China Rose', 'Chinese Red', 'Chocolate (Traditional)', 'Chocolate (Web)', 'Cinnabar', 'Cinnamon', 'Cobalt', 'Cocoa Brown', 'Coffee', 'Cool Black', 'Copper', 'Copper Penny', 'Copper Red', 'Copper Rose', 'Coquelicot', 'Coral', 'Coral Red', 'Cordovan', 'Cornell Red', 'Cornflower Blue', 'Crimson', 'Crimson Glory', 'Cyan', 'Cyan (Process)', 'Dark Blue', 'Dark Brown', 'Dark Byzantium', 'Dark Candy Apple Red', 'Dark Cerulean', 'Dark Chestnut', 'Dark Coral', 'Dark Cyan', 'Dark Electric Blue', 'Dark Green', 'Dark Imperial Blue', 'Dark Jungle Green', 'Dark Lava', 'Dark Lavender', 'Dark Magenta', 'Dark Midnight Blue', 'Dark Olive Green', 'Dark Orchid', 'Dark Pastel Blue', 'Dark Pastel Green', 'Dark Pastel Purple', 'Dark Pastel Red', 'Dark Pink', 'Dark Powder Blue', 'Dark Raspberry', 'Dark Red', 'Dark Scarlet', 'Dark Sienna', 'Dark Slate Blue', 'Dark Slate Gray', 'Dark Spring Green', 'Dark Taupe', 'Dark Terra Cotta', 'Dark Turquoise', 'Dark Violet', 'Dartmouth Green', \"Davy'S Grey\", 'Debian Red', 'Deep Carmine', 'Deep Carmine Pink', 'Deep Carrot Orange', 'Deep Cerise', 'Deep Chestnut', 'Deep Coffee', 'Deep Fuchsia', 'Deep Jungle Green', 'Deep Lilac', 'Deep Magenta', 'Deep Pink', 'Deep Ruby', 'Deep Sky Blue', 'Deep Tuscan Red', 'Denim', 'Dim Gray', 'Dodger Blue', 'Dogwood Rose', 'Drab', 'Duke Blue', 'Ebony', 'Eggplant', 'Egyptian Blue', 'Electric Blue', 'Electric Crimson', 'Electric Cyan', 'Electric Green', 'Electric Indigo', 'Electric Purple', 'Electric Ultramarine', 'Electric Violet', 'Emerald', 'Falu Red', 'Fandango', 'Fashion Fuchsia', 'Feldgrau', 'Fern Green', 'Ferrari Red', 'Field Drab', 'Fire Engine Red', 'Firebrick', 'Flame', 'Fluorescent Pink', 'Folly', 'Forest Green (Traditional)', 'Forest Green (Web)', 'French Beige', 'French Blue', 'French Lilac', 'French Raspberry', 'French Rose', 'Fuchsia', 'Fuchsia (Crayola)', 'Fuchsia Pink', 'Fuchsia Rose', 'Fuzzy Wuzzy', 'Ginger', 'Glaucous', 'Golden Brown', 'Gray-Asparagus', 'Green (Color Wheel) (X11 Green)', 'Green (Crayola)', 'Green (Html/Css Green)', 'Green (Munsell)', 'Green (Ncs)', 'Green (Pigment)', 'Green (Ryb)', 'Guppie Green', 'Halayà úBe', 'Han Blue', 'Han Purple', 'Harlequin', 'Harvard Crimson', 'Heliotrope', 'Hollywood Cerise', 'Honolulu Blue', \"Hooker'S Green\", 'Hot Magenta', 'Hot Pink', 'Hunter Green', 'Iceberg', 'Imperial Blue', 'India Green', 'Indian Red', 'Indigo', 'Indigo (Dye)', 'Indigo (Web)', 'International Klein Blue', 'International Orange (Aerospace)', 'International Orange (Engineering)', 'International Orange (Golden Gate Bridge)', 'Iris', 'Islamic Green', 'Jade', 'Jasper', 'Jazzberry Jam', 'Jet', 'Jungle Green', 'Kelly Green', 'Kenyan Copper', 'Ku Crimson', 'La Salle Green', 'Lapis Lazuli', 'Lava', 'Lavender (Floral)', 'Lavender Indigo', 'Lavender Purple', 'Lawn Green', 'Licorice', 'Light Brown', 'Light Carmine Pink', 'Light Crimson', 'Light Red Ochre', 'Light Sea Green', 'Light Slate Gray', 'Lime Green', 'Lime (Web) (X11 Green)', 'Lincoln Green', 'Little Boy Blue', 'Liver', 'Lust', 'Magenta', 'Magenta (Dye)', 'Magenta (Process)', 'Mahogany', 'Majorelle Blue', 'Malachite', 'Mantis', 'Mardi Gras', 'Maroon (Crayola)', 'Maroon (Html/Css)', 'Maroon (X11)', 'Mauve Taupe', 'Maya Blue', 'Medium Aquamarine', 'Medium Blue', 'Medium Candy Apple Red', 'Medium Carmine', 'Medium Electric Blue', 'Medium Jungle Green', 'Medium Orchid', 'Medium Persian Blue', 'Medium Purple', 'Medium Red-Violet', 'Medium Ruby', 'Medium Sea Green', 'Medium Slate Blue', 'Medium Spring Green', 'Medium Taupe', 'Medium Turquoise', 'Medium Tuscan Red', 'Medium Vermilion', 'Medium Violet-Red', 'Midnight Blue', 'Midnight Green (Eagle Green)', 'Mint', 'Mode Beige', 'Moonstone Blue', 'Mordant Red 19', 'Mountain Meadow', 'Mountbatten Pink', 'Msu Green', 'Mulberry', 'Myrtle', 'Napier Green', 'Navy Blue', 'Neon Fuchsia', 'Neon Green', 'North Texas Green', 'Ocean Boat Blue', 'Ochre', 'Office Green', 'Old Lavender', 'Old Mauve', 'Olive Drab #7', 'Olive Drab (Web) (Olive Drab #3)', 'Onyx', 'Orange (Color Wheel)', 'Orange-Red', 'Orchid', 'Otter Brown', 'Ou Crimson Red', 'Outer Space', 'Outrageous Orange', 'Oxford Blue', 'Pakistan Green', 'Palatinate Blue', 'Palatinate Purple', 'Pale Brown', 'Pale Carmine', 'Pale Red-Violet', 'Pale Violet-Red', 'Pansy Purple', 'Paris Green', 'Pastel Brown', 'Pastel Green', 'Pastel Red', 'Patriarch', \"Payne'S Grey\", 'Pearly Purple', 'Persian Blue', 'Persian Green', 'Persian Indigo', 'Persian Pink', 'Persian Plum', 'Persian Red', 'Persian Rose', 'Persimmon', 'Phlox', 'Phthalo Blue', 'Phthalo Green', 'Pine Green', 'Plum (Traditional)', 'Portland Orange', 'Prune', 'Prussian Blue', 'Psychedelic Purple', 'Pumpkin', 'Purple Heart', 'Purple (Html/Css)', 'Purple Mountain Majesty', 'Purple (Munsell)', 'Purple Pizzazz', 'Purple Taupe', 'Purple (X11)', 'Quartz', 'Rackley', 'Radical Red', 'Raspberry', 'Raspberry Glace', 'Raspberry Pink', 'Raspberry Rose', 'Raw Umber', 'Razzle Dazzle Rose', 'Razzmatazz', 'Red', 'Red-Brown', 'Red Devil', 'Red (Munsell)', 'Red (Ncs)', 'Red-Orange', 'Red (Pigment)', 'Red (Ryb)', 'Red-Violet', 'Redwood', 'Regalia', 'Resolution Blue', 'Rich Black', 'Rich Carmine', 'Rich Electric Blue', 'Rich Lavender', 'Rich Lilac', 'Rich Maroon', 'Rifle Green', 'Robin Egg Blue', 'Rose', 'Rose Bonbon', 'Rose Ebony', 'Rose Gold', 'Rose Madder', 'Rose Pink', 'Rose Taupe', 'Rose Vale', 'Rosewood', 'Rosso Corsa', 'Royal Azure', 'Royal Blue (Traditional)', 'Royal Blue (Web)', 'Royal Fuchsia', 'Royal Purple', 'Rubine Red', 'Ruby', 'Ruby Red', 'Ruddy', 'Ruddy Brown', 'Rufous', 'Russet', 'Rust', 'Rusty Red', 'Sacramento State Green', 'Saddle Brown', 'Safety Orange (Blaze Orange)', 'Sand Dune', 'Sandy Taupe', 'Sangria', 'Sap Green', 'Sapphire', 'Sapphire Blue', 'Scarlet', 'Scarlet (Crayola)', \"Screamin' Green\", 'Sea Blue', 'Sea Green', 'Seal Brown', 'Sepia', 'Shadow', 'Shamrock Green', 'Shocking Pink', 'Shocking Pink (Crayola)', 'Sienna', 'Sinopia', 'Skobeloff', 'Sky Magenta', 'Slate Blue', 'Slate Gray', 'Smalt (Dark Powder Blue)', 'Smokey Topaz', 'Smoky Black', 'Spiro Disco Ball', 'Spring Green', \"St. Patrick'S Blue\", 'Steel Blue', 'Stizza', 'Stormcloud', 'Tangelo', 'Tango Pink', 'Taupe', 'Teal', 'Teal Blue', 'Teal Green', 'Telemagenta', 'Tenné (Tawny)', 'Terra Cotta', 'Thulian Pink', 'Tiffany Blue', 'Tomato', 'Toolbox', 'Tractor Red', 'Tropical Rain Forest', 'True Blue', 'Tufts Blue', 'Turkish Rose', 'Turquoise', 'Turquoise Blue', 'Tuscan Red', 'Twilight Lavender', 'Tyrian Purple', 'Ua Blue', 'Ua Red', 'Ube', 'Ucla Blue', 'Ufo Green', 'Ultra Pink', 'Ultramarine', 'Ultramarine Blue', 'Umber', 'United Nations Blue', 'Up Forest Green', 'Up Maroon', 'Upsdell Red', 'Usafa Blue', 'Usc Cardinal', 'Utah Crimson', 'Venetian Red', 'Verdigris', 'Vermilion (Cinnabar)', 'Vermilion (Plochere)', 'Veronica', 'Violet', 'Violet-Blue', 'Violet (Color Wheel)', 'Violet (Ryb)', 'Viridian', 'Vivid Auburn', 'Vivid Burgundy', 'Vivid Cerise', 'Vivid Violet', 'Warm Black', 'Wenge', 'Wild Strawberry', 'Wild Watermelon', 'Wine', 'Wine Dregs', 'Xanadu', 'Yale Blue', 'Zaffre', 'Zinnwaldite Brown']\n"
     ]
    }
   ],
   "source": [
    "def recommend_colors(skin_tone, model, colors_df):\n",
    "    recommendations = []\n",
    "    count=0\n",
    "    for _, row in colors_df.iterrows():\n",
    "        color_rgb = (row['R'], row['G'], row['B'])\n",
    "        normalized_color_rgb = normalize_rgb(*color_rgb)\n",
    "        features = np.array([list(skin_tone) + list(normalized_color_rgb)])\n",
    "        if model.predict(features)[0] == 1:\n",
    "            recommendations.append(row['Color_Name'])\n",
    "            count=count+1\n",
    "    print(count)\n",
    "    return recommendations\n",
    "\n",
    "# Example usage\n",
    "example_skin_tone = (24, 172, 105)  # Replace with actual skin tone\n",
    "recommended_colors = recommend_colors(example_skin_tone, model, colors_df)\n",
    "print(f\"Recommended colors for skin tone {example_skin_tone}: {recommended_colors}\")"
   ]
  },
  {
   "cell_type": "code",
   "execution_count": 1,
   "metadata": {},
   "outputs": [
    {
     "data": {
      "image/png": "[encoded data removed]",
      "text/plain": [
       "<Figure size 432x288 with 1 Axes>"
      ]
     },
     "metadata": {
      "needs_background": "light"
     },
     "output_type": "display_data"
    },
    {
     "data": {
      "image/png": "[encoded data removed]",
      "text/plain": [
       "<Figure size 432x288 with 1 Axes>"
      ]
     },
     "metadata": {
      "needs_background": "light"
     },
     "output_type": "display_data"
    },
    {
     "data": {
      "image/png": "[encoded data removed]",
      "text/plain": [
       "<Figure size 432x288 with 1 Axes>"
      ]
     },
     "metadata": {
      "needs_background": "light"
     },
     "output_type": "display_data"
    }
   ],
   "source": [
    "import numpy as np\n",
    "import cv2\n",
    "from sklearn.cluster import KMeans\n",
    "import matplotlib.pyplot as plt\n",
    "\n",
    "def extract_dominant_colors(image, k=3):\n",
    "    \"\"\"Extract dominant colors from an image using K-means clustering.\"\"\"\n",
    "    pixels = np.float32(image.reshape(-1, 3))\n",
    "    kmeans = KMeans(n_clusters=k).fit(pixels)\n",
    "    centers = kmeans.cluster_centers_\n",
    "    return centers\n",
    "\n",
    "def apply_color_harmony(base_color, harmony_type='complementary'):\n",
    "    \"\"\"Apply color harmony rules to generate a set of harmonious colors.\"\"\"\n",
    "    base_color = np.array(base_color) / 255.0\n",
    "    harmonious_colors = []\n",
    "    \n",
    "    if harmony_type == 'analogous':\n",
    "        for i in [-1, 1]:\n",
    "            harmonious_colors.append(np.clip(base_color + i * 0.1, 0, 1) * 255)\n",
    "    \n",
    "    elif harmony_type == 'complementary':\n",
    "        harmonious_colors.append((1 - base_color) * 255)\n",
    "    \n",
    "    elif harmony_type == 'triadic':\n",
    "        harmonious_colors.append(np.roll(base_color, 1) * 255)\n",
    "        harmonious_colors.append(np.roll(base_color, -1) * 255)\n",
    "    \n",
    "    elif harmony_type == 'split-complementary':\n",
    "        harmonious_colors.append(np.clip((1 - base_color) + 0.1, 0, 1) * 255)\n",
    "        harmonious_colors.append(np.clip((1 - base_color) - 0.1, 0, 1) * 255)\n",
    "    \n",
    "    elif harmony_type == 'tetradic':\n",
    "        harmonious_colors.append(np.roll(base_color, 1) * 255)\n",
    "        harmonious_colors.append((1 - base_color) * 255)\n",
    "        harmonious_colors.append(np.roll(base_color, -1) * 255)\n",
    "    \n",
    "    elif harmony_type == 'monochromatic':\n",
    "        for i in [0.1, 0.2, 0.3]:\n",
    "            harmonious_colors.append(np.clip(base_color * (1 + i), 0, 1) * 255)\n",
    "    \n",
    "    return np.array(harmonious_colors, dtype=np.uint8)\n",
    "\n",
    "# Example usage\n",
    "image = cv2.imread('./try.webp')\n",
    "dominant_colors = extract_dominant_colors(image)\n",
    "\n",
    "for color in dominant_colors:\n",
    "    harmonious_colors = apply_color_harmony(color, 'complementary')\n",
    "    plt.figure()\n",
    "    plt.imshow([harmonious_colors])\n",
    "    plt.show()\n"
   ]
  },
  {
   "cell_type": "code",
   "execution_count": null,
   "metadata": {},
   "outputs": [],
   "source": []
  }
 ],
 "metadata": {
  "kernelspec": {
   "display_name": "Python 3",
   "language": "python",
   "name": "python3"
  },
  "language_info": {
   "codemirror_mode": {
    "name": "ipython",
    "version": 3
   },
   "file_extension": ".py",
   "mimetype": "text/x-python",
   "name": "python",
   "nbconvert_exporter": "python",
   "pygments_lexer": "ipython3",
   "version": "3.7.6"
  }
 },
 "nbformat": 4,
 "nbformat_minor": 4
}
